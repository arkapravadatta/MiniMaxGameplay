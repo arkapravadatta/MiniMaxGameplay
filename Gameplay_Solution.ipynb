{
 "cells": [
  {
   "cell_type": "markdown",
   "metadata": {
    "id": "FqgNDMyd7V45"
   },
   "source": [
    "# Problem statement 1 : Gaming\n"
   ]
  },
  {
   "cell_type": "markdown",
   "metadata": {
    "id": "TrEm8XBu7V4-"
   },
   "source": [
    "## Two-player Solution-Based Crossword Puzzle:\n"
   ]
  },
  {
   "cell_type": "markdown",
   "metadata": {},
   "source": [
    "### List only the BITS (Name) of active contributors in this assignment:\n",
    "1.\tPrabhat Das               (2023AC05037)  -100%\n",
    "2.\tArkaprava Datta           (2023AC05221)  -100%\n",
    "3.\tSubhajit Mazumdar         (2023AC05194)  -100%\n",
    "4.\tAnjan Chakraborty         (2023AC05537)  -100%\n"
   ]
  },
  {
   "cell_type": "markdown",
   "metadata": {},
   "source": [
    "### PEAS - Data structures and fringes that define the Agent environment goes here"
   ]
  },
  {
   "cell_type": "markdown",
   "metadata": {},
   "source": [
    "#### Performance Measure\n",
    "\n",
    "##### Score:\n",
    " The primary measure of performance is the score, where each player earns points for correctly placing words and loses points for incorrect placements.\n",
    "Number of Words Placed: The goal is to place all available words correctly in the crossword grid.\n",
    "\n",
    "##### Game Outcome: \n",
    " The game ends when all words are placed, and the player with the highest score wins.\n",
    "\n",
    "#### Environment\n",
    "##### Crossword Grid:\n",
    " A 12x9 grid representing the playing field where words are placed. Initially, the grid is filled with '#' characters indicating empty cells.\n",
    "##### Words List: \n",
    " A list of words that need to be placed in the grid. The list is modified as words are placed and removed.\n",
    "##### Player Scores: \n",
    " Each player (AI and Player 1) has a score that updates based on correct and incorrect word placements.\n",
    "##### Turn Sequence:\n",
    " The game alternates turns between the AI and Player 1, with each player having an opportunity to place a word in the grid.\n",
    "#### Actuators\n",
    "##### Place Word:\n",
    " The ability to place a word on the grid at a specified position and direction (horizontal or vertical).\n",
    "##### Update Score: \n",
    " The system updates the score based on whether the word placement is correct or incorrect.\n",
    "##### Print Grid:\n",
    " The system displays the current state of the grid to the players after each turn.\n",
    "##### Print Scores:\n",
    " The system shows the current scores of both players after each turn or iteration.\n",
    "#### Sensors\n",
    "##### Check Word Fit:\n",
    " The ability to determine if a word fits at a given position and direction on the grid. This includes checking if the word can be placed within the grid bounds and whether it overlaps correctly with existing letters.\n",
    "##### Validate Input:\n",
    " The ability to ensure that player inputs (word choice, direction, and position) are valid. This includes checking for correct format and constraints.\n",
    "##### Current State:\n",
    " The system tracks the current state of the grid, the list of remaining words, and the current scores of the players.\n",
    "#### Data Structures and Fringes\n",
    "##### Data Structures\n",
    "##### Grid (2D Array): \n",
    " A 12x9 NumPy array to represent the crossword grid, where each cell can be '#' (empty), a letter of a placed word, or '*' (taken cell).\n",
    "##### Words List (List): \n",
    " A list of strings representing the words available for placement. It is updated as words are placed and removed.\n",
    "##### Scores (List): \n",
    " A list of two integers to keep track of the scores for Player 1 and the AI.\n",
    "##### Turn (Integer):\n",
    " An integer (0 or 1) representing the current player’s turn (0 for AI and 1 for Player 1).\n",
    "##### Fringes\n",
    "##### Fringe for Word Placement: \n",
    " A collection of potential placements (word, position, direction) that need to be evaluated. This includes possible positions and directions for placing each word on the grid.\n",
    "##### Fringe for Validity Checks:\n",
    " A collection of checks to ensure word placement is valid, including boundary checks and overlap checks.\n",
    "##### Fringe for Player Input: \n",
    "A collection of input validations to ensure that the player's choices (word, direction, position) are valid and correctly formatted."
   ]
  },
  {
   "cell_type": "markdown",
   "metadata": {
    "id": "2LumuqiT7V4_"
   },
   "source": [
    "### Import Libraries"
   ]
  },
  {
   "cell_type": "code",
   "execution_count": 1,
   "metadata": {
    "id": "uGz_UvQn7V5A"
   },
   "outputs": [],
   "source": [
    "import numpy as np"
   ]
  },
  {
   "cell_type": "markdown",
   "metadata": {
    "id": "lO_l7kFd7V5B"
   },
   "source": [
    "### Grid and Score initialization"
   ]
  },
  {
   "cell_type": "code",
   "execution_count": 2,
   "metadata": {
    "id": "7nEZPaUG7V5B"
   },
   "outputs": [],
   "source": [
    "# Initialize the grid as a 12-row, 9-column array filled with '#'\n",
    "grid = np.full((12, 9), '#')\n",
    "\n",
    "# Word list for the game\n",
    "original_words = ['RABBIT', 'DOG', 'CAT', 'ELEPHANT', 'MONKEY', 'HORSE', 'CAMEL', 'DONKEY']\n",
    "words = original_words.copy()  # Create a copy for manipulation\n",
    "\n",
    "# Score initialization\n",
    "player_scores = [0, 0]  # Scores for Player 1 and the AI"
   ]
  },
  {
   "cell_type": "markdown",
   "metadata": {
    "id": "geWjerzI7V5C"
   },
   "source": [
    "### Function to print the crossword"
   ]
  },
  {
   "cell_type": "code",
   "execution_count": 3,
   "metadata": {
    "id": "wZ7Z8rC_7V5D"
   },
   "outputs": [],
   "source": [
    "def print_crossword(grid):\n",
    "    for row in grid:\n",
    "        print(' '.join(row))"
   ]
  },
  {
   "cell_type": "markdown",
   "metadata": {
    "id": "-2dqmpQs7V5D"
   },
   "source": [
    "### Function to check if a word fits"
   ]
  },
  {
   "cell_type": "code",
   "execution_count": 4,
   "metadata": {
    "id": "ZaraQe4e7V5D"
   },
   "outputs": [],
   "source": [
    "def checkfits(grid, word, pos, direction):\n",
    "    x, y = pos\n",
    "    if direction == 'H':\n",
    "        if y + len(word) > grid.shape[1]:  # Check horizontal bounds\n",
    "            return False\n",
    "        for i in range(len(word)):\n",
    "            if grid[x][y + i] not in ['#', word[i]]:\n",
    "                return False\n",
    "    else:  # Vertical Check\n",
    "        if x + len(word) > grid.shape[0]:  # Check vertical bounds\n",
    "            return False\n",
    "        for i in range(len(word)):\n",
    "            if grid[x + i][y] not in ['#', word[i]]:\n",
    "                return False\n",
    "    return True"
   ]
  },
  {
   "cell_type": "markdown",
   "metadata": {
    "id": "IKoWJR_G7V5E"
   },
   "source": [
    "### Function to place a word"
   ]
  },
  {
   "cell_type": "code",
   "execution_count": 5,
   "metadata": {
    "id": "WGepDy5E7V5E"
   },
   "outputs": [],
   "source": [
    "def place_word(grid, word, pos, direction):\n",
    "    x, y = pos\n",
    "    if direction == 'H':\n",
    "        for i in range(len(word)):\n",
    "            grid[x][y + i] = word[i]\n",
    "\n",
    "    else:  # Vertical\n",
    "        for i in range(len(word)):\n",
    "            grid[x + i][y] = word[i]\n"
   ]
  },
  {
   "cell_type": "markdown",
   "metadata": {
    "id": "KZdwksHJ7V5E"
   },
   "source": [
    "### Min-Max algorithm to determine the best word placement"
   ]
  },
  {
   "cell_type": "code",
   "execution_count": 6,
   "metadata": {
    "id": "jrwRcNsJ7V5E"
   },
   "outputs": [],
   "source": [
    "def min_max(grid, available_words, depth, maximizingPlayer):\n",
    "    if depth == 0 or not available_words:\n",
    "        # No deeper evaluation is necessary, just return the current score\n",
    "        return player_scores\n",
    "\n",
    "    if maximizingPlayer:\n",
    "        max_scores = [float('-inf')] * 2  # Max score for AI\n",
    "        for word in available_words:\n",
    "            for i in range(len(grid)):\n",
    "                for j in range(len(grid[0])):\n",
    "                    if checkfits(grid, word, (i, j), 'H'):\n",
    "                        temp_grid = grid.copy()\n",
    "                        place_word(temp_grid, word, (i, j), 'H')\n",
    "                        new_words = [w for w in available_words if w != word]\n",
    "                        scores = min_max(temp_grid, new_words, depth - 1, False)\n",
    "                        max_scores = [max(max_scores[0], scores[0]), max(max_scores[1], scores[1])]\n",
    "\n",
    "                    if checkfits(grid, word, (i, j), 'V'):\n",
    "                        temp_grid = grid.copy()\n",
    "                        place_word(temp_grid, word, (i, j), 'V')\n",
    "                        new_words = [w for w in available_words if w != word]\n",
    "                        scores = min_max(temp_grid, new_words, depth - 1, False)\n",
    "                        max_scores = [max(max_scores[0], scores[0]), max(max_scores[1], scores[1])]\n",
    "\n",
    "        return max_scores\n",
    "\n",
    "    else:\n",
    "        min_scores = [float('inf')] * 2  # Min score for opponent\n",
    "        for word in available_words:\n",
    "            for i in range(len(grid)):\n",
    "                for j in range(len(grid[0])):\n",
    "                    if checkfits(grid, word, (i, j), 'H'):\n",
    "                        temp_grid = grid.copy()\n",
    "                        place_word(temp_grid, word, (i, j), 'H')\n",
    "                        new_words = [w for w in available_words if w != word]\n",
    "                        scores = min_max(temp_grid, new_words, depth - 1, True)\n",
    "                        min_scores = [min(min_scores[0], scores[0]), min(min_scores[1], scores[1])]\n",
    "\n",
    "                    if checkfits(grid, word, (i, j), 'V'):\n",
    "                        temp_grid = grid.copy()\n",
    "                        place_word(temp_grid, word, (i, j), 'V')\n",
    "                        new_words = [w for w in available_words if w != word]\n",
    "                        scores = min_max(temp_grid, new_words, depth - 1, True)\n",
    "                        min_scores = [min(min_scores[0], scores[0]), min(min_scores[1], scores[1])]\n",
    "\n",
    "        return min_scores"
   ]
  },
  {
   "cell_type": "markdown",
   "metadata": {
    "id": "vy0fZU8m9hSQ"
   },
   "source": [
    "# Score evaluation based on the grid"
   ]
  },
  {
   "cell_type": "code",
   "execution_count": 7,
   "metadata": {
    "id": "oOWA-hTr9h2i"
   },
   "outputs": [],
   "source": [
    "def evaluate_score(grid):\n",
    "    scores = [0, 0]  # Player 1 and Player 2 scores\n",
    "    for word in original_words:\n",
    "        for i in range(len(grid)):\n",
    "            for j in range(len(grid[0])):\n",
    "                if checkfits(grid, word, (i, j), 'H'):\n",
    "                    scores[0] += len(word)  # Add points for Player 1\n",
    "                if checkfits(grid, word, (i, j), 'V'):\n",
    "                    scores[1] += len(word)  # Add points for Player 2\n",
    "    return scores"
   ]
  },
  {
   "cell_type": "markdown",
   "metadata": {
    "id": "9dbGriVk7V5F"
   },
   "source": [
    "### Main game loop"
   ]
  },
  {
   "cell_type": "code",
   "execution_count": 8,
   "metadata": {
    "id": "CctUhILK7V5F"
   },
   "outputs": [],
   "source": [
    "def play_game():\n",
    "    print(\"Initial crossword:\")\n",
    "    print_crossword(grid)\n",
    "\n",
    "    players = ['AI', 'Player 1']\n",
    "    turn = 0\n",
    "    iterations = 0  # Track the number of iterations\n",
    "    last_incorrect_word = None  # Variable to store the last incorrect word\n",
    "\n",
    "    # Loop until the maximum number of iterations (10) or all words are placed.\n",
    "    while iterations < 10 and words:\n",
    "        iterations += 1  # Increment iteration count\n",
    "        print(f\"\\nIteration {iterations}\")\n",
    "        print(f\"{players[turn]}'s turn\")\n",
    "        print(f\"Available words: {', '.join(words)}\")  # Show available words\n",
    "\n",
    "        if turn == 0:  # AI's turn\n",
    "            if last_incorrect_word:  # If there’s an incorrect word from the last turn\n",
    "                print(f\"The AI will now attempt to place the last incorrect word: '{last_incorrect_word}'...\")\n",
    "                placed_ai = False\n",
    "\n",
    "                for i in range(len(grid)):\n",
    "                    for j in range(len(grid[0])):\n",
    "                        if checkfits(grid, last_incorrect_word, (i, j), 'H'):\n",
    "                            place_word(grid, last_incorrect_word, (i, j), 'H')\n",
    "                            print(f\"AI placed the word '{last_incorrect_word}' horizontally at position {i},{j}.\")\n",
    "                            player_scores[0] += len(last_incorrect_word)  # AI scores points equal to word length\n",
    "                            words.remove(last_incorrect_word)  # Remove the word from available options\n",
    "                            placed_ai = True\n",
    "                            break\n",
    "                        elif checkfits(grid, last_incorrect_word, (i, j), 'V'):\n",
    "                            place_word(grid, last_incorrect_word, (i, j), 'V')\n",
    "                            print(f\"AI placed the word '{last_incorrect_word}' vertically at position {i},{j}.\")\n",
    "                            player_scores[0] += len(last_incorrect_word)  # AI scores points equal to word length\n",
    "                            words.remove(last_incorrect_word)  # Remove the word from available options\n",
    "                            placed_ai = True\n",
    "                            break\n",
    "                    if placed_ai:\n",
    "                        break\n",
    "\n",
    "                if not placed_ai:\n",
    "                    print(f\"The AI could not place the word '{last_incorrect_word}' in the grid.\")\n",
    "                last_incorrect_word = None  # Reset after AI's turn\n",
    "\n",
    "            else:  # AI's normal turn\n",
    "                max_scores = [float('-inf')] * 2\n",
    "                best_word = ''\n",
    "\n",
    "                for word in words:\n",
    "                    for i in range(len(grid)):\n",
    "                        for j in range(len(grid[0])):\n",
    "                            # Check horizontal and vertical placements\n",
    "                            if checkfits(grid, word, (i, j), 'H'):\n",
    "                                new_grid = grid.copy()\n",
    "                                place_word(new_grid, word, (i, j), 'H')\n",
    "                                scores = min_max(new_grid, [w for w in words if w != word], 0, False)\n",
    "                                if scores[0] > max_scores[0]:\n",
    "                                    best_word = word\n",
    "                                    max_scores = scores\n",
    "                            elif checkfits(grid, word, (i, j), 'V'):\n",
    "                                new_grid = grid.copy()\n",
    "                                place_word(new_grid, word, (i, j), 'V')\n",
    "                                scores = min_max(new_grid, [w for w in words if w != word], 0, False)\n",
    "                                if scores[0] > max_scores[0]:\n",
    "                                    best_word = word\n",
    "                                    max_scores = scores\n",
    "\n",
    "                # Place the best word in the grid\n",
    "                placed = False\n",
    "                for i in range(len(grid)):\n",
    "                    for j in range(len(grid[0])):\n",
    "                        if checkfits(grid, best_word, (i, j), 'H'):\n",
    "                            place_word(grid, best_word, (i, j), 'H')\n",
    "                            placed = True\n",
    "                            break\n",
    "                        elif checkfits(grid, best_word, (i, j), 'V'):\n",
    "                            place_word(grid, best_word, (i, j), 'V')\n",
    "                            placed = True\n",
    "                            break\n",
    "                    if placed:\n",
    "                        break\n",
    "\n",
    "                player_scores[turn] += len(best_word)  # Update AI score based on word length\n",
    "                print(f\"The AI chose the word: {best_word}\")\n",
    "                words.remove(best_word)  # Remove the best word from available options\n",
    "\n",
    "        else:  # Player's turn\n",
    "            while True:  # Keep asking until valid word is placed\n",
    "                word = input(\"Choose a word from the available options: \").strip().upper()\n",
    "                if not word:\n",
    "                    print(\"You must enter a word. Please try again.\")\n",
    "                    continue\n",
    "\n",
    "                if word not in words:\n",
    "                    print(f\"Invalid choice. Please choose from: {', '.join(words)}\")\n",
    "                    continue\n",
    "\n",
    "                direction = input(\"Enter direction (H for horizontal, V for vertical): \").strip().upper()\n",
    "                if direction not in ['H', 'V']:\n",
    "                    print(\"Invalid direction. Please enter 'H' for horizontal or 'V' for vertical.\")\n",
    "                    continue\n",
    "\n",
    "                try:\n",
    "                    pos = tuple(map(int, input(\"Enter starting position (row, col): \").strip().split(\",\")))\n",
    "                    if len(pos) != 2 or not (0 <= pos[0] < grid.shape[0]) or not (0 <= pos[1] < grid.shape[1]):\n",
    "                        raise ValueError\n",
    "                except ValueError:\n",
    "                    print(\"Invalid position format. Please enter the starting position as 'row,col' with valid row and column numbers.\")\n",
    "                    continue\n",
    "\n",
    "                if checkfits(grid, word, pos, direction):\n",
    "                    place_word(grid, word, pos, direction)\n",
    "                    player_scores[turn] += len(word)  # Player scores points equal to word length\n",
    "                    print(f\"Word {word} placed correctly. {players[turn]} scores {len(word)} points.\")\n",
    "                    words.remove(word)  # Remove the word from available options\n",
    "                    last_incorrect_word = None  # Reset last incorrect word\n",
    "                    break  # Exit the loop if placement is successful\n",
    "                else:\n",
    "                    player_scores[turn] -= 1  # Deduct 1 point for incorrect placement\n",
    "                    print(f\"Word {word} could not be placed correctly. {players[turn]} loses 1 point.\")\n",
    "                    last_incorrect_word = word  # Store the incorrect word\n",
    "                    break  # Exit the loop for the next player's turn\n",
    "\n",
    "        # Display scores after each iteration\n",
    "        print(f\"Scores after iteration {iterations}: AI: {player_scores[0]}, Player 1: {player_scores[1]}\")\n",
    "        print(\"Current crossword:\")\n",
    "        print_crossword(grid)\n",
    "\n",
    "        turn = (turn + 1) % 2  # Switch turns\n",
    "\n",
    "    # Declare the winner after the game ends\n",
    "    print(f\"\\nFinal scores: AI: {player_scores[0]}, Player 1: {player_scores[1]}\")\n",
    "    if player_scores[0] > player_scores[1]:\n",
    "        print(\"AI wins!\")\n",
    "    elif player_scores[0] < player_scores[1]:\n",
    "        print(\"Player 1 wins!\")\n",
    "    else:\n",
    "        print(\"It's a draw!\")"
   ]
  },
  {
   "cell_type": "markdown",
   "metadata": {
    "id": "p4LZDzJf7V5F"
   },
   "source": [
    "## Start the game"
   ]
  },
  {
   "cell_type": "code",
   "execution_count": null,
   "metadata": {
    "colab": {
     "base_uri": "https://localhost:8080/"
    },
    "id": "YuELnX0l7V5F",
    "outputId": "74801bf1-80d7-4719-a207-a95802a4e14a"
   },
   "outputs": [],
   "source": [
    "play_game()"
   ]
  }
 ],
 "metadata": {
  "colab": {
   "provenance": []
  },
  "kernelspec": {
   "display_name": "Python 3 (ipykernel)",
   "language": "python",
   "name": "python3"
  },
  "language_info": {
   "codemirror_mode": {
    "name": "ipython",
    "version": 3
   },
   "file_extension": ".py",
   "mimetype": "text/x-python",
   "name": "python",
   "nbconvert_exporter": "python",
   "pygments_lexer": "ipython3",
   "version": "3.12.4"
  }
 },
 "nbformat": 4,
 "nbformat_minor": 4
}
